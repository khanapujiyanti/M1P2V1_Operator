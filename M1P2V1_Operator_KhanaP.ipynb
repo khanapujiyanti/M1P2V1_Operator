{
  "nbformat": 4,
  "nbformat_minor": 0,
  "metadata": {
    "colab": {
      "name": "M1P2V1_Operator_KhanaP.ipynb",
      "provenance": [],
      "collapsed_sections": [],
      "authorship_tag": "ABX9TyMmZJ+FN2tV34j2r6DPvJgT",
      "include_colab_link": true
    },
    "kernelspec": {
      "name": "python3",
      "display_name": "Python 3"
    },
    "language_info": {
      "name": "python"
    }
  },
  "cells": [
    {
      "cell_type": "markdown",
      "metadata": {
        "id": "view-in-github",
        "colab_type": "text"
      },
      "source": [
        "<a href=\"https://colab.research.google.com/github/khanapujiyanti/M1P2V1_Operator/blob/main/M1P2V1_Operator_KhanaP.ipynb\" target=\"_parent\"><img src=\"https://colab.research.google.com/assets/colab-badge.svg\" alt=\"Open In Colab\"/></a>"
      ]
    },
    {
      "cell_type": "markdown",
      "metadata": {
        "id": "8OLa_6lC5Ema"
      },
      "source": [
        "# OPERATOR"
      ]
    },
    {
      "cell_type": "markdown",
      "metadata": {
        "id": "iw2PE_Wi7A7e"
      },
      "source": [
        "Operator = simbol-simbol yang dapat digunakan untuk mengubah nilai dari suatu variabel dengan melibatkan satu atau lebih variabel dan literal.\n",
        "tipe-tipe operator : \n",
        "1. Operato Aritmatika\n",
        "2. Operator Assigmnment\n",
        "3. Operator Pembanding\n",
        "4. Operator Logika\n",
        "5. Operator Membership"
      ]
    },
    {
      "cell_type": "markdown",
      "metadata": {
        "id": "JX3alEmi8kWL"
      },
      "source": [
        "# Operator Aritmatika"
      ]
    },
    {
      "cell_type": "markdown",
      "metadata": {
        "id": "XA8Uu8xX8q_d"
      },
      "source": [
        "Operator Aritmatika digunakan untuk melakukan operasi matematika yang umum.\n",
        "Macam-macam operator aritmatika :\n"
      ]
    },
    {
      "cell_type": "code",
      "metadata": {
        "id": "OBwq04Y19EQ3"
      },
      "source": [
        "+ : Penjumlahan\n",
        "- : Pengurangan\n",
        "* : Perkalian\n",
        "/ : Pembagian\n",
        "% : Modulus\n",
        "** : Perpangkatan\n",
        "// : Pembagian dengan hasil pembulatan flooring"
      ],
      "execution_count": null,
      "outputs": []
    },
    {
      "cell_type": "code",
      "metadata": {
        "colab": {
          "base_uri": "https://localhost:8080/"
        },
        "id": "elyeRxoj41KY",
        "outputId": "5d9c8d60-4aba-451f-ab50-92d29d80d0d6"
      },
      "source": [
        "# Contoh penggunaan operator aritmatika\n",
        "\n",
        "#Penjumlahan\n",
        "print('Penjumlahan')\n",
        "print(2+2)\n",
        "#Pengurangan \n",
        "print('-'*21)\n",
        "print('Pengurangan')\n",
        "print(2-3)\n",
        "#Perkalian\n",
        "print('-'*21)\n",
        "print('Perkalian')\n",
        "print(2*3)\n",
        "#Pembagian\n",
        "print('-'*21)\n",
        "print('Pembagian')\n",
        "print(2/3)\n",
        "#Modulus\n",
        "print('-'*21)\n",
        "print('Modulus')\n",
        "print(2%3)\n",
        "#Perpangkatan\n",
        "print('-'*21)\n",
        "print('Perpangkatan')\n",
        "print(2**3)\n",
        "#Pembagian Pembulatan Flooring\n",
        "print('-'*21)\n",
        "print('Pembagian Pembulatan Flooring')\n",
        "print(3//2)\n"
      ],
      "execution_count": null,
      "outputs": [
        {
          "output_type": "stream",
          "name": "stdout",
          "text": [
            "Penjumlahan\n",
            "4\n",
            "---------------------\n",
            "Pengurangan\n",
            "-1\n",
            "---------------------\n",
            "Perkalian\n",
            "6\n",
            "---------------------\n",
            "Pembagian\n",
            "0.6666666666666666\n",
            "---------------------\n",
            "Modulus\n",
            "2\n",
            "---------------------\n",
            "Perpangkatan\n",
            "8\n",
            "---------------------\n",
            "Pembagian Pembulatan Flooring\n",
            "1\n"
          ]
        }
      ]
    },
    {
      "cell_type": "markdown",
      "metadata": {
        "id": "BfnE7XSQ_x00"
      },
      "source": [
        "Latihan 1"
      ]
    },
    {
      "cell_type": "code",
      "metadata": {
        "colab": {
          "base_uri": "https://localhost:8080/"
        },
        "id": "NhQQy9rMBKyO",
        "outputId": "da771662-6b1f-441d-f89d-2a42aefc813a"
      },
      "source": [
        "#Buatlah program penerapan operator aritmatika\n",
        "#Dengan nilai-nilai yang berbeda dari contoh di atas\n",
        "\n",
        "#Penjumlahan\n",
        "print('Penjumlahan')\n",
        "print(5+11)\n",
        "#Pengurangan \n",
        "print('-'*21)\n",
        "print('Pengurangan')\n",
        "print(5-5)\n",
        "#Perkalian\n",
        "print('-'*21)\n",
        "print('Perkalian')\n",
        "print(7*8)\n",
        "#Pembagian\n",
        "print('-'*21)\n",
        "print('Pembagian')\n",
        "print(6/5)\n",
        "#Modulus\n",
        "print('-'*21)\n",
        "print('Modulus')\n",
        "print(6%12)\n",
        "#Perpangkatan\n",
        "print('-'*21)\n",
        "print('Perpangkatan')\n",
        "print(9**4)\n",
        "#Pembagian Pembulatan Flooring\n",
        "print('-'*21)\n",
        "print('Pembagian Pembulatan Flooring')\n",
        "print(13//5)\n"
      ],
      "execution_count": null,
      "outputs": [
        {
          "output_type": "stream",
          "name": "stdout",
          "text": [
            "Penjumlahan\n",
            "16\n",
            "---------------------\n",
            "Pengurangan\n",
            "0\n",
            "---------------------\n",
            "Perkalian\n",
            "56\n",
            "---------------------\n",
            "Pembagian\n",
            "1.2\n",
            "---------------------\n",
            "Modulus\n",
            "6\n",
            "---------------------\n",
            "Perpangkatan\n",
            "6561\n",
            "---------------------\n",
            "Pembagian Pembulatan Flooring\n",
            "2\n"
          ]
        }
      ]
    },
    {
      "cell_type": "markdown",
      "metadata": {
        "id": "Nwey-EgxYAsl"
      },
      "source": [
        "#Operator Assigment "
      ]
    },
    {
      "cell_type": "markdown",
      "metadata": {
        "id": "UCfMbCoRYJ3Q"
      },
      "source": [
        "Opertor assigment untuk menyimpan nilai menjadi suatu variabel"
      ]
    },
    {
      "cell_type": "code",
      "metadata": {
        "id": "-7fmqyp2AGjA",
        "colab": {
          "base_uri": "https://localhost:8080/",
          "height": 130
        },
        "outputId": "e31aa3e4-ac4a-46e4-e01e-f6469c648f20"
      },
      "source": [
        "= : contohnya x = 5 -> x = 5\n",
        "+= : contohnya x = x + 5 -> x += 5\n",
        "-= : contohnya x = x - 5 -> x -= 5\n",
        "*= : contohnya x = x * 5 -> x *= 5\n",
        "/= : contohnya x = x / 5 -> x /= 5\n",
        "%= : contohnya x = x % 5 -> x %= 5\n",
        "//= : contohnya x = x // 5 -> x //= 5\n",
        "**= :contohnya x = x ** 5 -> x **=5"
      ],
      "execution_count": null,
      "outputs": [
        {
          "output_type": "error",
          "ename": "SyntaxError",
          "evalue": "ignored",
          "traceback": [
            "\u001b[0;36m  File \u001b[0;32m\"<ipython-input-1-51187b98b714>\"\u001b[0;36m, line \u001b[0;32m1\u001b[0m\n\u001b[0;31m    = : contohnya x = 5 -> x = 5\u001b[0m\n\u001b[0m    ^\u001b[0m\n\u001b[0;31mSyntaxError\u001b[0m\u001b[0;31m:\u001b[0m invalid syntax\n"
          ]
        }
      ]
    },
    {
      "cell_type": "code",
      "metadata": {
        "colab": {
          "base_uri": "https://localhost:8080/"
        },
        "id": "YgvFKiboc_u4",
        "outputId": "000fa174-a745-4994-96f0-bdda2d4cab77"
      },
      "source": [
        "#Contoh penggunaan operator assigment\n",
        "\n",
        "#Penjumlahan\n",
        "print('Penjumlahan')\n",
        "x=5\n",
        "x= x + 5\n",
        "print(x)\n",
        "x=5\n",
        "x+=3\n",
        "print (x)\n",
        "print('-'*22)\n",
        "\n",
        "#Pengurangan \n",
        "print('Pengurangan')\n",
        "x=5\n",
        "x=x-5\n",
        "print(x)\n",
        "x=5\n",
        "x-=3\n",
        "print(x)\n",
        "print('-'*22)\n",
        "\n",
        "#Perkalian\n",
        "print('Perkalian')\n",
        "x=5\n",
        "x=x*5\n",
        "print(x)\n",
        "x=5\n",
        "x*=3\n",
        "print(x)\n",
        "print('-'*22)\n",
        "\n",
        "#Pembagian\n",
        "print('Pembagian')\n",
        "x=5\n",
        "x=x/5\n",
        "print(x)\n",
        "x=5\n",
        "x/=3\n",
        "print(x)\n",
        "print('-'*22)\n",
        "\n",
        "#Modulus\n",
        "print('Modulus')\n",
        "x=5\n",
        "x=x%5\n",
        "print(x)\n",
        "x=5\n",
        "x%=3\n",
        "print(x)\n",
        "print('-'*22)\n",
        "\n",
        "#Pembagian Floring\n",
        "print('Pembagian Floring')\n",
        "x=5\n",
        "x=x//5\n",
        "print(x)\n",
        "x=5\n",
        "x//=3\n",
        "print(x)\n",
        "print('-'*22)\n",
        "\n",
        "#Perpangkatan\n",
        "print('Perpangkatan')\n",
        "x=5\n",
        "x=x**5\n",
        "print(x)\n",
        "x=5\n",
        "x**=3\n",
        "print(x)\n",
        "print('-'*22)"
      ],
      "execution_count": null,
      "outputs": [
        {
          "output_type": "stream",
          "name": "stdout",
          "text": [
            "Penjumlahan\n",
            "10\n",
            "8\n",
            "----------------------\n",
            "Pengurangan\n",
            "0\n",
            "2\n",
            "----------------------\n",
            "Perkalian\n",
            "25\n",
            "15\n",
            "----------------------\n",
            "1.0\n",
            "1.6666666666666667\n",
            "----------------------\n",
            "0\n",
            "2\n",
            "----------------------\n",
            "1\n",
            "1\n",
            "----------------------\n",
            "3125\n",
            "125\n",
            "----------------------\n"
          ]
        }
      ]
    },
    {
      "cell_type": "markdown",
      "metadata": {
        "id": "M3oo5rGEN9ul"
      },
      "source": [
        "Latihan Operator 2"
      ]
    },
    {
      "cell_type": "code",
      "metadata": {
        "colab": {
          "base_uri": "https://localhost:8080/"
        },
        "id": "d_nwen87OD6W",
        "outputId": "2ad5b079-3e84-4292-839e-dd5372c68a31"
      },
      "source": [
        "#Buatlah program penerapan operator assigment\n",
        "#dengan nilai-nilai yang berbeda dari contoh diatas\n",
        "\n",
        "#Penjumlahan\n",
        "print('Penjumlahan')\n",
        "x=1\n",
        "x= x + 2\n",
        "print(x)\n",
        "x=3\n",
        "x+=4\n",
        "print (x)\n",
        "print('-'*22)\n",
        "\n",
        "#Pengurangan \n",
        "print('Pengurangan')\n",
        "x=1\n",
        "x=x-2\n",
        "print(x)\n",
        "x=3\n",
        "x-=4\n",
        "print(x)\n",
        "print('-'*22)\n",
        "\n",
        "#Perkalian\n",
        "print('Perkalian')\n",
        "x=1\n",
        "x=x*2\n",
        "print(x)\n",
        "x=3\n",
        "x*=4\n",
        "print(x)\n",
        "print('-'*22)\n",
        "\n",
        "#Pembagian\n",
        "print('Pembagian')\n",
        "x=1\n",
        "x=x/2\n",
        "print(x)\n",
        "x=3\n",
        "x/=4\n",
        "print(x)\n",
        "print('-'*22)\n",
        "\n",
        "#Modulus\n",
        "print('Modulus')\n",
        "x=1\n",
        "x=x%2\n",
        "print(x)\n",
        "x=3\n",
        "x%=4\n",
        "print(x)\n",
        "print('-'*22)\n",
        "\n",
        "#Pembagian Floring\n",
        "print('Pembagian Floring')\n",
        "x=1\n",
        "x=x//2\n",
        "print(x)\n",
        "x=3\n",
        "x//=4\n",
        "print(x)\n",
        "print('-'*22)\n",
        "\n",
        "#Perpangkatan\n",
        "print('Perpangkatan')\n",
        "x=1\n",
        "x=x**2\n",
        "print(x)\n",
        "x=3\n",
        "x**=4\n",
        "print(x)\n",
        "print('-'*22)"
      ],
      "execution_count": null,
      "outputs": [
        {
          "output_type": "stream",
          "name": "stdout",
          "text": [
            "Penjumlahan\n",
            "3\n",
            "7\n",
            "----------------------\n",
            "Pengurangan\n",
            "-1\n",
            "-1\n",
            "----------------------\n",
            "Perkalian\n",
            "2\n",
            "12\n",
            "----------------------\n",
            "Pembagian\n",
            "0.5\n",
            "0.75\n",
            "----------------------\n",
            "Modulus\n",
            "1\n",
            "3\n",
            "----------------------\n",
            "Pembagian Floring\n",
            "0\n",
            "0\n",
            "----------------------\n",
            "Perpangkatan\n",
            "1\n",
            "81\n",
            "----------------------\n"
          ]
        }
      ]
    },
    {
      "cell_type": "markdown",
      "metadata": {
        "id": "qOkj0jkIPuA_"
      },
      "source": [
        "#Operator Pembandingan"
      ]
    },
    {
      "cell_type": "markdown",
      "metadata": {
        "id": "RqXuA1NkP7Yg"
      },
      "source": [
        "Operator perbandingan digunakan untuk membandingkan 2 nilai atau variabel\n",
        "\n",
        "macam-macam operator perbandingan:\n",
        "\n",
        "== -> samadengan\n",
        "\n",
        "!=  -> tidak samadengan\n",
        "\n",
        ">  -> lebih dari\n",
        "\n",
        "<  -> kurang dari\n",
        "\n",
        ">=  -> lebih dari samadengan\n",
        "\n",
        "<=   -> kurang dari samadengan"
      ]
    },
    {
      "cell_type": "code",
      "metadata": {
        "colab": {
          "base_uri": "https://localhost:8080/"
        },
        "id": "DgbudMS0QKyf",
        "outputId": "2744557d-1701-4445-9ee8-5341b867dbd7"
      },
      "source": [
        "#Contoh penggunaan operator perbandingan\n",
        "\n",
        "print(2==2)\n",
        "print(2!=2)\n",
        "print(2>2)\n",
        "print(2<2)\n",
        "print(2>=2)\n",
        "print(2<=2)"
      ],
      "execution_count": null,
      "outputs": [
        {
          "output_type": "stream",
          "name": "stdout",
          "text": [
            "True\n",
            "False\n",
            "False\n",
            "False\n",
            "True\n",
            "True\n"
          ]
        }
      ]
    },
    {
      "cell_type": "markdown",
      "metadata": {
        "id": "tED4cI42Rlf7"
      },
      "source": [
        "Latihan Operator 3"
      ]
    },
    {
      "cell_type": "code",
      "metadata": {
        "colab": {
          "base_uri": "https://localhost:8080/"
        },
        "id": "6sS0WZQeRoLI",
        "outputId": "905100f5-345f-4449-bf33-ac7b09e1790f"
      },
      "source": [
        "# Buatlah program penerapan operator assigmant \n",
        "# dengan nilai-nilai yang berbeda dari contoh di atas\n",
        "\n",
        "print(3==5)\n",
        "print(3!=5)\n",
        "print(3>5)\n",
        "print(3<5)\n",
        "print(3>=5)\n",
        "print(3<=5)"
      ],
      "execution_count": null,
      "outputs": [
        {
          "output_type": "stream",
          "name": "stdout",
          "text": [
            "False\n",
            "True\n",
            "False\n",
            "True\n",
            "False\n",
            "True\n"
          ]
        }
      ]
    },
    {
      "cell_type": "markdown",
      "metadata": {
        "id": "Pi0Fn0YDSOLU"
      },
      "source": [
        "#Operator Logika"
      ]
    },
    {
      "cell_type": "markdown",
      "metadata": {
        "id": "29wrm1YXSR3F"
      },
      "source": [
        "Operator logika digunakan untuk mengkombinasikan statment-statment kondisional\n",
        "\n",
        "macam-macam operator logika:\n",
        "\n",
        "and -> kondisi menjadi benar apabila semua statmentnya benar\n",
        "\n",
        "or -> kondisi menjadi benar apabila salah satu statmentnya ada yang benar\n",
        "\n",
        "not -> membalik hasil dari benar ke salah dan salah ke benar"
      ]
    },
    {
      "cell_type": "code",
      "metadata": {
        "colab": {
          "base_uri": "https://localhost:8080/"
        },
        "id": "5idZtLACTcBJ",
        "outputId": "a5cbd240-a052-4e95-b82d-776d15ba843c"
      },
      "source": [
        "# Contoh Penggunaan operator logika\n",
        "\n",
        "print(True and False)\n",
        "print(False or False)\n",
        "print(not False and True)"
      ],
      "execution_count": null,
      "outputs": [
        {
          "output_type": "stream",
          "name": "stdout",
          "text": [
            "False\n",
            "False\n",
            "True\n"
          ]
        }
      ]
    },
    {
      "cell_type": "markdown",
      "metadata": {
        "id": "2Xn7TRJlT9_4"
      },
      "source": [
        "Latihan Operator 4"
      ]
    },
    {
      "cell_type": "code",
      "metadata": {
        "colab": {
          "base_uri": "https://localhost:8080/"
        },
        "id": "EJk-PNSuUCoS",
        "outputId": "b7dabc6c-038c-4203-e356-0b45d40e3ae4"
      },
      "source": [
        "#Buatlah program penerapan operator logika\n",
        "#dengan nilai-nilai yang berbeda dari contoh di atas\n",
        "\n",
        "print(True and True)\n",
        "print(False or True)\n",
        "print(not True and True)"
      ],
      "execution_count": null,
      "outputs": [
        {
          "output_type": "stream",
          "name": "stdout",
          "text": [
            "True\n",
            "True\n",
            "False\n"
          ]
        }
      ]
    },
    {
      "cell_type": "markdown",
      "metadata": {
        "id": "mIBu-6ViUmWO"
      },
      "source": [
        "# Operator Keanggotaan"
      ]
    },
    {
      "cell_type": "markdown",
      "metadata": {
        "id": "6fm8UGV_UqMg"
      },
      "source": [
        "Operator keanggotaan digunakan untuk menguji apakah urutan disajikan dalam suatu objek\n",
        "\n",
        "macam-macam operator keanggotaan:\n",
        "\n",
        "in     -> return True ketika nilai tertentu dalam sebuah urutan ada\n",
        "\n",
        "not in -> return True ketika nilai tertentu dalam sebuah urutan tidak ada"
      ]
    },
    {
      "cell_type": "code",
      "metadata": {
        "colab": {
          "base_uri": "https://localhost:8080/"
        },
        "id": "XPUfviacVgLf",
        "outputId": "25a34772-a12f-45c4-f174-ecddb17d692a"
      },
      "source": [
        "#Contoh Penggunaan operator keanggotaan\n",
        "\n",
        "a=(1,2,3,4,5,6)\n",
        "b=2\n",
        "\n",
        "print(b in a)\n",
        "\n",
        "print('-'*22)\n",
        "a=(1,2,3,4,5,6)\n",
        "b=7\n",
        "print(b not in a)"
      ],
      "execution_count": null,
      "outputs": [
        {
          "output_type": "stream",
          "name": "stdout",
          "text": [
            "True\n",
            "----------------------\n",
            "True\n"
          ]
        }
      ]
    },
    {
      "cell_type": "markdown",
      "metadata": {
        "id": "ukKzeGAIWBE2"
      },
      "source": [
        "Latihan operator 5"
      ]
    },
    {
      "cell_type": "code",
      "metadata": {
        "colab": {
          "base_uri": "https://localhost:8080/"
        },
        "id": "bd1ncrtdWHD2",
        "outputId": "ce5adb23-2049-44a8-bd22-0764b7566db5"
      },
      "source": [
        "#Buatlah program penerapan operator keanggotaan/membership\n",
        "# dengan nilai-nilai yang berbeda dari contoh di atas\n",
        "\n",
        "x=(1,3,5,7,9,11)\n",
        "y=2\n",
        "print(y in x)\n",
        "print('-'*22)\n",
        "x=(2,4,6,8,10)\n",
        "y=4\n",
        "print(y not in x)"
      ],
      "execution_count": null,
      "outputs": [
        {
          "output_type": "stream",
          "name": "stdout",
          "text": [
            "False\n",
            "----------------------\n",
            "False\n"
          ]
        }
      ]
    }
  ]
}